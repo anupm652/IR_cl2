{
 "cells": [
  {
   "cell_type": "code",
   "execution_count": 1,
   "metadata": {},
   "outputs": [],
   "source": [
    "document1 = \"The quick brown fox jumped over the lazy dog.\"\n",
    "document2 = \"The lazy dog slept in the sun.\""
   ]
  },
  {
   "cell_type": "code",
   "execution_count": 2,
   "metadata": {},
   "outputs": [
    {
     "name": "stdout",
     "output_type": "stream",
     "text": [
      "['the', 'quick', 'brown', 'fox', 'jumped', 'over', 'the', 'lazy', 'dog.']   ['the', 'quick', 'brown', 'fox', 'jumped', 'over', 'the', 'lazy', 'dog.']\n"
     ]
    }
   ],
   "source": [
    "tokens1 = document1.lower().split()\n",
    "tokens2 = document2.lower().split()\n",
    "print(tokens1, \" \", tokens1)"
   ]
  },
  {
   "cell_type": "code",
   "execution_count": 3,
   "metadata": {},
   "outputs": [],
   "source": [
    "terms = list(set(tokens1 + tokens2))"
   ]
  },
  {
   "cell_type": "code",
   "execution_count": 4,
   "metadata": {},
   "outputs": [],
   "source": [
    "inverted_index = {}"
   ]
  },
  {
   "cell_type": "code",
   "execution_count": 5,
   "metadata": {},
   "outputs": [
    {
     "name": "stdout",
     "output_type": "stream",
     "text": [
      "{'fox': ['Document 1']}\n",
      "{'fox': ['Document 1'], 'dog.': ['Document 1']}\n",
      "{'fox': ['Document 1'], 'dog.': ['Document 1'], 'sun.': ['Document 2']}\n",
      "{'fox': ['Document 1'], 'dog.': ['Document 1'], 'sun.': ['Document 2'], 'in': ['Document 2']}\n",
      "{'fox': ['Document 1'], 'dog.': ['Document 1'], 'sun.': ['Document 2'], 'in': ['Document 2'], 'over': ['Document 1']}\n",
      "{'fox': ['Document 1'], 'dog.': ['Document 1'], 'sun.': ['Document 2'], 'in': ['Document 2'], 'over': ['Document 1'], 'dog': ['Document 2']}\n",
      "{'fox': ['Document 1'], 'dog.': ['Document 1'], 'sun.': ['Document 2'], 'in': ['Document 2'], 'over': ['Document 1'], 'dog': ['Document 2'], 'jumped': ['Document 1']}\n",
      "{'fox': ['Document 1'], 'dog.': ['Document 1'], 'sun.': ['Document 2'], 'in': ['Document 2'], 'over': ['Document 1'], 'dog': ['Document 2'], 'jumped': ['Document 1'], 'the': ['Document 1', 'Document 2']}\n",
      "{'fox': ['Document 1'], 'dog.': ['Document 1'], 'sun.': ['Document 2'], 'in': ['Document 2'], 'over': ['Document 1'], 'dog': ['Document 2'], 'jumped': ['Document 1'], 'the': ['Document 1', 'Document 2'], 'slept': ['Document 2']}\n",
      "{'fox': ['Document 1'], 'dog.': ['Document 1'], 'sun.': ['Document 2'], 'in': ['Document 2'], 'over': ['Document 1'], 'dog': ['Document 2'], 'jumped': ['Document 1'], 'the': ['Document 1', 'Document 2'], 'slept': ['Document 2'], 'lazy': ['Document 1', 'Document 2']}\n",
      "{'fox': ['Document 1'], 'dog.': ['Document 1'], 'sun.': ['Document 2'], 'in': ['Document 2'], 'over': ['Document 1'], 'dog': ['Document 2'], 'jumped': ['Document 1'], 'the': ['Document 1', 'Document 2'], 'slept': ['Document 2'], 'lazy': ['Document 1', 'Document 2'], 'quick': ['Document 1']}\n",
      "{'fox': ['Document 1'], 'dog.': ['Document 1'], 'sun.': ['Document 2'], 'in': ['Document 2'], 'over': ['Document 1'], 'dog': ['Document 2'], 'jumped': ['Document 1'], 'the': ['Document 1', 'Document 2'], 'slept': ['Document 2'], 'lazy': ['Document 1', 'Document 2'], 'quick': ['Document 1'], 'brown': ['Document 1']}\n"
     ]
    }
   ],
   "source": [
    "for term in terms:\n",
    "    documents = []\n",
    "    if term in tokens1:\n",
    "        documents.append(\"Document 1\")\n",
    "    if term in tokens2:\n",
    "        documents.append(\"Document 2\")\n",
    "    inverted_index[term] = documents\n",
    "    \n",
    "    print(inverted_index)"
   ]
  },
  {
   "cell_type": "code",
   "execution_count": 6,
   "metadata": {},
   "outputs": [
    {
     "name": "stdout",
     "output_type": "stream",
     "text": [
      "fox -> Document 1\n",
      "dog. -> Document 1\n",
      "sun. -> Document 2\n",
      "in -> Document 2\n",
      "over -> Document 1\n",
      "dog -> Document 2\n",
      "jumped -> Document 1\n",
      "the -> Document 1, Document 2\n",
      "slept -> Document 2\n",
      "lazy -> Document 1, Document 2\n",
      "quick -> Document 1\n",
      "brown -> Document 1\n"
     ]
    }
   ],
   "source": [
    "for term, documents in inverted_index.items():\n",
    "    print (term, \"->\", \", \".join(documents))"
   ]
  },
  {
   "cell_type": "code",
   "execution_count": null,
   "metadata": {},
   "outputs": [],
   "source": []
  }
 ],
 "metadata": {
  "kernelspec": {
   "display_name": "base",
   "language": "python",
   "name": "python3"
  },
  "language_info": {
   "codemirror_mode": {
    "name": "ipython",
    "version": 3
   },
   "file_extension": ".py",
   "mimetype": "text/x-python",
   "name": "python",
   "nbconvert_exporter": "python",
   "pygments_lexer": "ipython3",
   "version": "3.9.13"
  }
 },
 "nbformat": 4,
 "nbformat_minor": 2
}
