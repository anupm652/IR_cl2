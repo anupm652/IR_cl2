{
 "cells": [
  {
   "cell_type": "code",
   "execution_count": 3,
   "metadata": {},
   "outputs": [
    {
     "name": "stdout",
     "output_type": "stream",
     "text": [
      "+-----------------+---------------------+\n",
      "| HeartDisease    |   phi(HeartDisease) |\n",
      "+=================+=====================+\n",
      "| HeartDisease(0) |              1.0000 |\n",
      "+-----------------+---------------------+\n",
      "| HeartDisease(1) |              0.0000 |\n",
      "+-----------------+---------------------+\n",
      "The patient is likely not to have Heart Disease.\n"
     ]
    }
   ],
   "source": [
    "import pandas as pd\n",
    "from pgmpy.models import BayesianNetwork\n",
    "from pgmpy.estimators import MaximumLikelihoodEstimator\n",
    "from pgmpy.inference import VariableElimination\n",
    "\n",
    "# Load the Heart Disease UCI dataset (replace 'heart_disease.csv' with your dataset path)\n",
    "data = pd.read_csv('heart.csv')\n",
    "\n",
    "# Define the Bayesian network structure\n",
    "model = BayesianNetwork([('Age', 'HeartDisease'), \n",
    "                         ('Sex', 'HeartDisease'),\n",
    "                         ('ChestPainType', 'HeartDisease'),\n",
    "                         ('RestingBP', 'HeartDisease'),\n",
    "                         ('Cholesterol', 'HeartDisease'),\n",
    "                         ('FastingBS', 'HeartDisease'),\n",
    "                         ('RestingECG', 'HeartDisease'),\n",
    "                         ('MaxHR', 'HeartDisease'),\n",
    "                         ('ExerciseAngina', 'HeartDisease'),\n",
    "                         ('Oldpeak', 'HeartDisease'),\n",
    "                         ('ST_Slope', 'HeartDisease')])\n",
    "\n",
    "# Estimate CPDs from data\n",
    "model.fit(data, estimator=MaximumLikelihoodEstimator)\n",
    "\n",
    "# Create an inference object\n",
    "inference = VariableElimination(model)\n",
    "\n",
    "# Provide evidence for diagnosis\n",
    "evidence = {\n",
    "    'Age': 40,\n",
    "    'Sex': 'M',\n",
    "    'ChestPainType': 'ATA',\n",
    "    'RestingBP': 140,\n",
    "    'Cholesterol': 289,\n",
    "    'FastingBS': 0,\n",
    "    'RestingECG': 'Normal',\n",
    "    'MaxHR': 172,\n",
    "    'ExerciseAngina': 'N',\n",
    "    'Oldpeak': 0,\n",
    "    'ST_Slope': 'Up'\n",
    "}\n",
    "\n",
    "# Query the model for the probability of Heart Disease\n",
    "query_result = inference.query(variables=['HeartDisease'], evidence=evidence)\n",
    "print(query_result)\n",
    "\n",
    "# Diagnose the patient based on the probability\n",
    "if query_result.values[1] > query_result.values[0]:\n",
    "    print(\"The patient is likely to have Heart Disease.\")\n",
    "else:\n",
    "    print(\"The patient is likely not to have Heart Disease.\")\n"
   ]
  },
  {
   "cell_type": "code",
   "execution_count": null,
   "metadata": {},
   "outputs": [],
   "source": []
  }
 ],
 "metadata": {
  "kernelspec": {
   "display_name": "Python 3",
   "language": "python",
   "name": "python3"
  },
  "language_info": {
   "codemirror_mode": {
    "name": "ipython",
    "version": 3
   },
   "file_extension": ".py",
   "mimetype": "text/x-python",
   "name": "python",
   "nbconvert_exporter": "python",
   "pygments_lexer": "ipython3",
   "version": "3.9.13"
  },
  "orig_nbformat": 4
 },
 "nbformat": 4,
 "nbformat_minor": 2
}
